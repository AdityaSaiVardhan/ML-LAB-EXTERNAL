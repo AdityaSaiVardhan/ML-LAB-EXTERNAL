{
  "nbformat": 4,
  "nbformat_minor": 0,
  "metadata": {
    "colab": {
      "name": "MLP_LAB_16_08",
      "provenance": []
    },
    "kernelspec": {
      "name": "python3",
      "display_name": "Python 3"
    },
    "language_info": {
      "name": "python"
    }
  },
  "cells": [
    {
      "cell_type": "markdown",
      "metadata": {
        "id": "scn4-uYIdF9S"
      },
      "source": [
        "**Write a program to implement kmeans using scikit learn**"
      ]
    },
    {
      "cell_type": "code",
      "metadata": {
        "id": "Y2MiHc4ycLmw"
      },
      "source": [
        "import matplotlib.pyplot as plt\n",
        "%matplotlib inline "
      ],
      "execution_count": 1,
      "outputs": []
    },
    {
      "cell_type": "code",
      "metadata": {
        "id": "oq2xiki-cT9q"
      },
      "source": [
        "import numpy as np\n",
        "from sklearn.cluster import KMeans"
      ],
      "execution_count": 2,
      "outputs": []
    },
    {
      "cell_type": "code",
      "metadata": {
        "colab": {
          "base_uri": "https://localhost:8080/",
          "height": 333
        },
        "id": "oeG04Oh3ccOK",
        "outputId": "53a9d697-5c41-4f95-dbe9-3fc735deba95"
      },
      "source": [
        "X = np.array([[1,5],[9,19],[15,31],[1,5],[25,42],[21,30],[34,35],[81,90],[91,110],])\n",
        "plt.scatter(X[:,0],X[:,1], label='True Position')\n",
        "kmeans = KMeans(n_clusters=2)\n",
        "kmeans.fit(X)\n",
        "print(kmeans.cluster_centers_)\n",
        "print(kmeans.labels_)\n",
        "plt.scatter(X[:,0],X[:,1], c=kmeans.labels_, cmap='rainbow')\n",
        "plt.scatter(kmeans.cluster_centers_[:,0] ,kmeans.cluster_centers_[:,1], color='black')"
      ],
      "execution_count": 3,
      "outputs": [
        {
          "output_type": "stream",
          "name": "stdout",
          "text": [
            "[[ 15.14285714  23.85714286]\n",
            " [ 86.         100.        ]]\n",
            "[0 0 0 0 0 0 0 1 1]\n"
          ]
        },
        {
          "output_type": "execute_result",
          "data": {
            "text/plain": [
              "<matplotlib.collections.PathCollection at 0x7f1284bd90d0>"
            ]
          },
          "metadata": {},
          "execution_count": 3
        },
        {
          "output_type": "display_data",
          "data": {
            "image/png": "[encoded data removed]",
            "text/plain": [
              "<Figure size 432x288 with 1 Axes>"
            ]
          },
          "metadata": {
            "needs_background": "light"
          }
        }
      ]
    },
    {
      "cell_type": "markdown",
      "metadata": {
        "id": "1Vw0ywjXdV9y"
      },
      "source": [
        "**Write a program for implementing list**"
      ]
    },
    {
      "cell_type": "code",
      "metadata": {
        "colab": {
          "base_uri": "https://localhost:8080/"
        },
        "id": "Fv7-nkkRcxIy",
        "outputId": "c39e9701-e943-4c2b-a732-8a42c0f41088"
      },
      "source": [
        "\n",
        "a=[1,2,3,\"Aditya\",'Sai',0.1]\n",
        "#printing items\n",
        "print(a)\n",
        "#accessing items\n",
        "print(a[0])\n",
        "print(a[0:3])\n",
        "print(a[0:5:4])\n",
        "\n",
        "#printing type\n",
        "print(type(a))\n",
        "print(type(a[1]))\n",
        "print(type(a[3]))\n",
        "print(type(a[5]))\n",
        "#copying items\n",
        "x=a.copy()\n",
        "print(x)\n",
        "#deleting items\n",
        "x.pop(0)\n",
        "print(x)\n",
        "#clear items\n",
        "x.clear()\n",
        "print(x)\n",
        "#reverse\n",
        "a.reverse()\n",
        "print(a)\n",
        "#remove items\n",
        "a.remove('Sai')\n",
        "print(a)\n",
        "#adding items\n",
        "a.append(5)\n",
        "print(a)"
      ],
      "execution_count": 4,
      "outputs": [
        {
          "output_type": "stream",
          "name": "stdout",
          "text": [
            "[1, 2, 3, 'Aditya', 'Sai', 0.1]\n",
            "1\n",
            "[1, 2, 3]\n",
            "[1, 'Sai']\n",
            "<class 'list'>\n",
            "<class 'int'>\n",
            "<class 'str'>\n",
            "<class 'float'>\n",
            "[1, 2, 3, 'Aditya', 'Sai', 0.1]\n",
            "[2, 3, 'Aditya', 'Sai', 0.1]\n",
            "[]\n",
            "[0.1, 'Sai', 'Aditya', 3, 2, 1]\n",
            "[0.1, 'Aditya', 3, 2, 1]\n",
            "[0.1, 'Aditya', 3, 2, 1, 5]\n"
          ]
        }
      ]
    }
  ]
}